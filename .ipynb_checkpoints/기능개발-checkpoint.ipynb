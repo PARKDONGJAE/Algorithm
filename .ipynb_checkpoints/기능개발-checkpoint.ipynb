{
 "cells": [
  {
   "cell_type": "code",
   "execution_count": 6,
   "metadata": {},
   "outputs": [],
   "source": [
    "from math import ceil"
   ]
  },
  {
   "cell_type": "code",
   "execution_count": 57,
   "metadata": {},
   "outputs": [],
   "source": [
    "from math import ceil\n",
    "def solution(progresses, speeds):\n",
    "    answer = []\n",
    "    dic = [ ceil((100-i[0])/i[1]) for i in zip(progresses, speeds) ]\n",
    "    a,count=dic[0],0\n",
    "    for i in dic:\n",
    "        if (i<=a):\n",
    "            count+=1\n",
    "        else:\n",
    "            answer.append(count)\n",
    "            count=1\n",
    "            a=i\n",
    "    answer.append(count)\n",
    "    return answer"
   ]
  }
 ],
 "metadata": {
  "kernelspec": {
   "display_name": "Python 3",
   "language": "python",
   "name": "python3"
  },
  "language_info": {
   "codemirror_mode": {
    "name": "ipython",
    "version": 3
   },
   "file_extension": ".py",
   "mimetype": "text/x-python",
   "name": "python",
   "nbconvert_exporter": "python",
   "pygments_lexer": "ipython3",
   "version": "3.7.6"
  }
 },
 "nbformat": 4,
 "nbformat_minor": 4
}
