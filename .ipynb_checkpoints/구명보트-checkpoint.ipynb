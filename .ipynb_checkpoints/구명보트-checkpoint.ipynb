{
 "cells": [
  {
   "cell_type": "code",
   "execution_count": 4,
   "metadata": {},
   "outputs": [],
   "source": [
    "import heapq"
   ]
  },
  {
   "cell_type": "code",
   "execution_count": 7,
   "metadata": {},
   "outputs": [],
   "source": [
    "people=[10,20,30,40,50,60,70]\n",
    "limit=100"
   ]
  },
  {
   "cell_type": "code",
   "execution_count": 10,
   "metadata": {},
   "outputs": [
    {
     "data": {
      "text/plain": [
       "1"
      ]
     },
     "execution_count": 10,
     "metadata": {},
     "output_type": "execute_result"
    }
   ],
   "source": [
    "# 내풀이\n",
    "answer = 0\n",
    "a=0\n",
    "heapq.heapify(people)\n",
    "while people:\n",
    "    b=heapq.heappop(people)\n",
    "#     print(people,b)\n",
    "    a=b+b\n",
    "    if a >limit:\n",
    "        answer+=1\n",
    "        a=b\n",
    "#         print(people,a)\n",
    "answer=answer+1\n",
    "answer"
   ]
  },
  {
   "cell_type": "code",
   "execution_count": 11,
   "metadata": {},
   "outputs": [],
   "source": [
    "# 남의 풀이\n",
    "def solution(people, limit):\n",
    "    answer = 0\n",
    "    people.sort()\n",
    "    light = 0\n",
    "    heavy = len(people) - 1\n",
    "    cnt = 0\n",
    "    while(light < heavy):\n",
    "        if(people[light] + people[heavy] <= limit):\n",
    "            cnt += 1\n",
    "            light += 1\n",
    "            heavy -= 1\n",
    "        else:\n",
    "            heavy -= 1\n",
    "    answer = len(people) - cnt\n",
    "    return answer"
   ]
  },
  {
   "cell_type": "code",
   "execution_count": null,
   "metadata": {},
   "outputs": [],
   "source": []
  }
 ],
 "metadata": {
  "kernelspec": {
   "display_name": "Python 3",
   "language": "python",
   "name": "python3"
  },
  "language_info": {
   "codemirror_mode": {
    "name": "ipython",
    "version": 3
   },
   "file_extension": ".py",
   "mimetype": "text/x-python",
   "name": "python",
   "nbconvert_exporter": "python",
   "pygments_lexer": "ipython3",
   "version": "3.7.6"
  }
 },
 "nbformat": 4,
 "nbformat_minor": 4
}
