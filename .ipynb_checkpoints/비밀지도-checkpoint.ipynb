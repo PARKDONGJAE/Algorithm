{
 "cells": [
  {
   "cell_type": "code",
   "execution_count": 120,
   "metadata": {},
   "outputs": [],
   "source": [
    "def solution(n, arr1, arr2):\n",
    "    c=[]\n",
    "    d=[]\n",
    "    for x in arr1:\n",
    "        y=\"\"\n",
    "        for i in range(n):\n",
    "            y=str(int(x%2))+y\n",
    "            x=int(x/2)\n",
    "        c.append(y)\n",
    "    for x in arr2:\n",
    "        y=\"\"\n",
    "        for i in range(n):\n",
    "            y=str(int(x%2))+y\n",
    "            x=int(x/2)\n",
    "        d.append(y)\n",
    "    answer=[\"\"]*n\n",
    "    for i in range(n):\n",
    "        for j in range(n):\n",
    "            if c[i][j]==d[i][j]==\"0\":\n",
    "                answer[i]=answer[i]+\" \"\n",
    "            else:\n",
    "                answer[i]=answer[i]+\"#\"\n",
    "    return answer"
   ]
  }
 ],
 "metadata": {
  "kernelspec": {
   "display_name": "Python 3",
   "language": "python",
   "name": "python3"
  },
  "language_info": {
   "codemirror_mode": {
    "name": "ipython",
    "version": 3
   },
   "file_extension": ".py",
   "mimetype": "text/x-python",
   "name": "python",
   "nbconvert_exporter": "python",
   "pygments_lexer": "ipython3",
   "version": "3.7.6"
  }
 },
 "nbformat": 4,
 "nbformat_minor": 4
}
