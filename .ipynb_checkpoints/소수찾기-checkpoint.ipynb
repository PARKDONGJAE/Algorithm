{
 "cells": [
  {
   "cell_type": "code",
   "execution_count": null,
   "metadata": {},
   "outputs": [],
   "source": [
    "from itertools import permutations\n",
    "\n",
    "def primenum(num):\n",
    "        if num>1:\n",
    "            for i in range(2,int(num)):\n",
    "                if int(num) % i ==0:\n",
    "                    return False\n",
    "        else : \n",
    "            return False\n",
    "        return True\n",
    "def solution(numbers):\n",
    "    answer=0\n",
    "    an=[]\n",
    "    for k in range(1, len(numbers)+1):\n",
    "            li = list(map(''.join, permutations(list(numbers), k)))\n",
    "            for i in set(li):\n",
    "                an.append(int(i))\n",
    "    answer=sum(list(map(primenum,set(an))))\n",
    "    return answer"
   ]
  }
 ],
 "metadata": {
  "kernelspec": {
   "display_name": "Python 3",
   "language": "python",
   "name": "python3"
  },
  "language_info": {
   "codemirror_mode": {
    "name": "ipython",
    "version": 3
   },
   "file_extension": ".py",
   "mimetype": "text/x-python",
   "name": "python",
   "nbconvert_exporter": "python",
   "pygments_lexer": "ipython3",
   "version": "3.7.6"
  }
 },
 "nbformat": 4,
 "nbformat_minor": 4
}
