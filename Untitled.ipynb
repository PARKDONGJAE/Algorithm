{
 "cells": [
  {
   "cell_type": "code",
   "execution_count": 1,
   "metadata": {},
   "outputs": [],
   "source": [
    "scoville=[1, 2, 3, 9, 10, 12]"
   ]
  },
  {
   "cell_type": "code",
   "execution_count": 3,
   "metadata": {},
   "outputs": [
    {
     "name": "stdout",
     "output_type": "stream",
     "text": [
      "2\n"
     ]
    }
   ],
   "source": [
    "answer=0\n",
    "scoville.sort()\n",
    "K=7\n",
    "an=[]\n",
    "for i in scoville:\n",
    "    if i<K:\n",
    "        an.append(i)\n",
    "while True:\n",
    "    an[0] = an[0]+an[1]*2\n",
    "    del an[1]\n",
    "    answer+=1\n",
    "    if an[0]>=K:\n",
    "        del a[0]\n",
    "    else:\n",
    "        an.sort()\n",
    "        \n",
    "        \n",
    "while True:\n",
    "    if answer > K-2:\n",
    "        print(-1)\n",
    "        break\n",
    "    elif scoville[0]>=K:\n",
    "        print(answer)\n",
    "        break\n",
    "    else:\n",
    "        answer+=1\n",
    "        scoville[0]=scoville[0]+scoville[1]*2\n",
    "        del scoville[1]"
   ]
  },
  {
   "cell_type": "code",
   "execution_count": 36,
   "metadata": {
    "scrolled": true
   },
   "outputs": [
    {
     "name": "stdout",
     "output_type": "stream",
     "text": [
      "[12, 10, 9, 3, 2, 1]\n",
      "[1, 2, 3, 9, 10, 12]\n"
     ]
    }
   ],
   "source": [
    "a.sort(reverse=True)\n",
    "print(a)\n",
    "a.sort()\n",
    "print(a)"
   ]
  },
  {
   "cell_type": "code",
   "execution_count": 25,
   "metadata": {},
   "outputs": [],
   "source": [
    "a[0]=25\n",
    "del a[1]"
   ]
  },
  {
   "cell_type": "code",
   "execution_count": 30,
   "metadata": {},
   "outputs": [
    {
     "data": {
      "text/plain": [
       "[1, 2, 3, 9, 10, 12]"
      ]
     },
     "execution_count": 30,
     "metadata": {},
     "output_type": "execute_result"
    }
   ],
   "source": [
    "a"
   ]
  },
  {
   "cell_type": "code",
   "execution_count": null,
   "metadata": {},
   "outputs": [],
   "source": [
    "for i,a in enumerate(a):\n",
    "    if a<7:\n",
    "        b.append(a)\n",
    "            "
   ]
  },
  {
   "cell_type": "code",
   "execution_count": 7,
   "metadata": {
    "scrolled": true
   },
   "outputs": [
    {
     "data": {
      "text/plain": [
       "8"
      ]
     },
     "execution_count": 7,
     "metadata": {},
     "output_type": "execute_result"
    }
   ],
   "source": [
    "sorted(a)[0]+sorted(a)[1]*2"
   ]
  },
  {
   "cell_type": "code",
   "execution_count": 40,
   "metadata": {},
   "outputs": [
    {
     "data": {
      "text/plain": [
       "[105]"
      ]
     },
     "execution_count": 40,
     "metadata": {},
     "output_type": "execute_result"
    }
   ],
   "source": [
    "a"
   ]
  },
  {
   "cell_type": "code",
   "execution_count": 37,
   "metadata": {},
   "outputs": [
    {
     "name": "stdout",
     "output_type": "stream",
     "text": [
      "5\n"
     ]
    }
   ],
   "source": [
    "answer=0\n",
    "while True:\n",
    "    a.sort()\n",
    "    if a[0]>=100:\n",
    "        print(answer)\n",
    "        break\n",
    "    else:\n",
    "        answer+=1\n",
    "        a[0]=a[0]+a[1]*2\n",
    "        del a[1]"
   ]
  },
  {
   "cell_type": "code",
   "execution_count": 43,
   "metadata": {},
   "outputs": [
    {
     "data": {
      "text/plain": [
       "5"
      ]
     },
     "execution_count": 43,
     "metadata": {},
     "output_type": "execute_result"
    }
   ],
   "source": [
    "sorted(a)[0]+sorted(a)[1]*2"
   ]
  },
  {
   "cell_type": "code",
   "execution_count": null,
   "metadata": {},
   "outputs": [],
   "source": [
    "answer=0\n",
    "while True:\n",
    "    if min(a)>7:\n",
    "        print(answer)\n",
    "        break\n",
    "    else:\n",
    "        answer+=1\n",
    "        a[0]=a[0]+a[1]*2\n",
    "        del a[1]"
   ]
  }
 ],
 "metadata": {
  "kernelspec": {
   "display_name": "Python 3",
   "language": "python",
   "name": "python3"
  },
  "language_info": {
   "codemirror_mode": {
    "name": "ipython",
    "version": 3
   },
   "file_extension": ".py",
   "mimetype": "text/x-python",
   "name": "python",
   "nbconvert_exporter": "python",
   "pygments_lexer": "ipython3",
   "version": "3.7.6"
  }
 },
 "nbformat": 4,
 "nbformat_minor": 4
}
