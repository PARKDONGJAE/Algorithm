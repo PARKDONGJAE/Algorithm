{
 "cells": [
  {
   "cell_type": "code",
   "execution_count": 68,
   "metadata": {},
   "outputs": [],
   "source": [
    "def solution(n):\n",
    "    count=1\n",
    "    li=[[1]* i for i in range(1,n+1)]\n",
    "    x=-1\n",
    "    y=0\n",
    "    answer=[]\n",
    "    for i in range(n):\n",
    "        for j in range(i,n):\n",
    "            if i % 3 ==0:\n",
    "                x+=1\n",
    "            elif i%3==1:\n",
    "                y+=1\n",
    "            elif i%3==2:\n",
    "                x-=1\n",
    "                y-=1\n",
    "            li[x][y]=count\n",
    "            count+=1\n",
    "    for i in li:\n",
    "        for j in i:\n",
    "            answer.append(j)\n",
    "    return answer"
   ]
  }
 ],
 "metadata": {
  "kernelspec": {
   "display_name": "Python 3",
   "language": "python",
   "name": "python3"
  },
  "language_info": {
   "codemirror_mode": {
    "name": "ipython",
    "version": 3
   },
   "file_extension": ".py",
   "mimetype": "text/x-python",
   "name": "python",
   "nbconvert_exporter": "python",
   "pygments_lexer": "ipython3",
   "version": "3.7.6"
  }
 },
 "nbformat": 4,
 "nbformat_minor": 4
}
