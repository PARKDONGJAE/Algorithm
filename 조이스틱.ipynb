{
 "cells": [
  {
   "cell_type": "code",
   "execution_count": 107,
   "metadata": {},
   "outputs": [],
   "source": [
    "## 내 풀이 - 오답ㅠ\n",
    "def solution(name):\n",
    "    answer=0\n",
    "    for i in name:\n",
    "        answer+=min(ord(i)-ord(\"A\"),26-(ord(i)-ord(\"A\")))\n",
    "    count1,count2=0,0\n",
    "    for i in name[1:]:\n",
    "        if i==\"A\":\n",
    "            count1+=1\n",
    "        else:\n",
    "            break\n",
    "    if name[0]==\"A\":\n",
    "        count1+=1\n",
    "    for j in name[::-1]:\n",
    "        if j==\"A\":\n",
    "            count2+=1\n",
    "        else:\n",
    "            break\n",
    "    if count1>count2:\n",
    "        answer=answer+len(name[1:])-count1\n",
    "    else: \n",
    "        answer=answer+len(name[1:])-count2\n",
    "    return answer"
   ]
  },
  {
   "cell_type": "code",
   "execution_count": null,
   "metadata": {},
   "outputs": [],
   "source": [
    "\"jaaabbbaa\"\n",
    "\"jjjaaaabb\"\n",
    "000000"
   ]
  },
  {
   "cell_type": "code",
   "execution_count": null,
   "metadata": {},
   "outputs": [],
   "source": [
    "## 다른사람의 풀이\n",
    "def solution(name):\n",
    "    make_name = [min(ord(i) - ord(\"A\"), ord(\"Z\") - ord(i)+1) for i in name]\n",
    "    idx, answer = 0, 0\n",
    "    while True:\n",
    "        answer += make_name[idx]\n",
    "        make_name[idx] = 0\n",
    "        if sum(make_name) ==0:\n",
    "            break\n",
    "        left, right = 1, 1\n",
    "        while make_name[idx - left] ==0:\n",
    "            left +=1\n",
    "        while make_name[idx + right] ==0:\n",
    "            right +=1\n",
    "        answer += left if left < right else right\n",
    "        idx += -left if left < right else right\n",
    "    return answer"
   ]
  }
 ],
 "metadata": {
  "kernelspec": {
   "display_name": "Python 3",
   "language": "python",
   "name": "python3"
  },
  "language_info": {
   "codemirror_mode": {
    "name": "ipython",
    "version": 3
   },
   "file_extension": ".py",
   "mimetype": "text/x-python",
   "name": "python",
   "nbconvert_exporter": "python",
   "pygments_lexer": "ipython3",
   "version": "3.7.6"
  }
 },
 "nbformat": 4,
 "nbformat_minor": 4
}
