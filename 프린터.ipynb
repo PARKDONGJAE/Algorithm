{
 "cells": [
  {
   "cell_type": "code",
   "execution_count": null,
   "metadata": {},
   "outputs": [],
   "source": [
    "def solution(priorities, location):\n",
    "    li=[(i,a)for i,a in enumerate(priorities)]\n",
    "    answer=0\n",
    "    b=[]\n",
    "    while len(li)>0:\n",
    "        if any([i[1]>li[0][1] for i in li[1:]]):\n",
    "            li.append(li.pop(0))\n",
    "        else:\n",
    "            b.append(li.pop(0))\n",
    "    for i in b:\n",
    "        if i[0]==location:\n",
    "            answer=b.index(i)+1\n",
    "    return answer"
   ]
  }
 ],
 "metadata": {
  "kernelspec": {
   "display_name": "Python 3",
   "language": "python",
   "name": "python3"
  },
  "language_info": {
   "codemirror_mode": {
    "name": "ipython",
    "version": 3
   },
   "file_extension": ".py",
   "mimetype": "text/x-python",
   "name": "python",
   "nbconvert_exporter": "python",
   "pygments_lexer": "ipython3",
   "version": "3.7.6"
  }
 },
 "nbformat": 4,
 "nbformat_minor": 4
}
