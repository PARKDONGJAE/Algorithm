{
 "cells": [
  {
   "cell_type": "code",
   "execution_count": 137,
   "metadata": {},
   "outputs": [],
   "source": [
    "## 오답풀이"
   ]
  },
  {
   "cell_type": "code",
   "execution_count": 95,
   "metadata": {
    "scrolled": true
   },
   "outputs": [],
   "source": [
    "from itertools import permutations\n",
    "def solution(numbers): \n",
    "    li=list(permutations(numbers,len(numbers)))\n",
    "    li2 = [\"\".join([str(i) for i in j]) for j in li]\n",
    "    return max(li2)\n",
    "  \n"
   ]
  },
  {
   "cell_type": "code",
   "execution_count": 117,
   "metadata": {},
   "outputs": [],
   "source": [
    "a=[str(i) for i in numbers]\n",
    "a.sort(reverse=True)\n",
    "for i in range(len(a)-1) :\n",
    "    if a[i][0]==a[i+1][0] and len(a[i])>len(a[i+1]):\n",
    "        a[i],a[i+1]=a[i+1],a[i]"
   ]
  },
  {
   "cell_type": "code",
   "execution_count": 132,
   "metadata": {},
   "outputs": [],
   "source": [
    "a= len(str(max(numbers)))\n",
    "li = [[i*10**(a-len(str(i))),i] for i in numbers]\n",
    "li.sort(reverse=True)\n",
    "for i in range(len(li)-1):\n",
    "    if li[i][0]==li[i+1][0]:\n",
    "        li[i+1][0]=li[i+1][0]+0.1*i\n",
    "li.sort(reverse=True)\n",
    "for i in li:\n",
    "    answer+=str(i[1])\n",
    "return answer"
   ]
  },
  {
   "cell_type": "code",
   "execution_count": 70,
   "metadata": {},
   "outputs": [],
   "source": [
    "def solution(numbers): \n",
    "    answer=\"\"\n",
    "    a= len(str(max(numbers)))\n",
    "    li = [(i*10**(a-len(str(i))),i) for i in numbers]\n",
    "    li.sort(reverse=True)\n",
    "    for i in len(li):\n",
    "        if li[i][0]==li[i+1][0]:\n",
    "            li[i+1][1],li[i][1]=li[i][1],li[i+1][1]\n",
    "    for i in li:\n",
    "        answer+=str(i[1])\n",
    "    return answer"
   ]
  },
  {
   "cell_type": "code",
   "execution_count": null,
   "metadata": {},
   "outputs": [],
   "source": [
    "## 이것만 정답"
   ]
  },
  {
   "cell_type": "code",
   "execution_count": 136,
   "metadata": {},
   "outputs": [],
   "source": [
    "def solution(numbers): \n",
    "    answer=\"\"\n",
    "    li = [(str(i)*4,i) for i in numbers]\n",
    "    li.sort(reverse=True)\n",
    "    for i in li:\n",
    "        answer+=str(i[1])\n",
    "    if sum(numbers)==0:\n",
    "        answer = \"0\"\n",
    "    return answer"
   ]
  },
  {
   "cell_type": "code",
   "execution_count": null,
   "metadata": {},
   "outputs": [],
   "source": []
  }
 ],
 "metadata": {
  "kernelspec": {
   "display_name": "Python 3",
   "language": "python",
   "name": "python3"
  },
  "language_info": {
   "codemirror_mode": {
    "name": "ipython",
    "version": 3
   },
   "file_extension": ".py",
   "mimetype": "text/x-python",
   "name": "python",
   "nbconvert_exporter": "python",
   "pygments_lexer": "ipython3",
   "version": "3.7.6"
  }
 },
 "nbformat": 4,
 "nbformat_minor": 4
}
